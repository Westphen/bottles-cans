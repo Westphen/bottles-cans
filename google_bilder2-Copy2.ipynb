{
 "cells": [
  {
   "cell_type": "code",
   "execution_count": 1,
   "id": "7b9b5038",
   "metadata": {},
   "outputs": [],
   "source": [
    "import bs4\n",
    "import requests\n",
    "from selenium import webdriver\n",
    "import os\n",
    "import time"
   ]
  },
  {
   "cell_type": "code",
   "execution_count": 2,
   "id": "d6d3519d",
   "metadata": {},
   "outputs": [],
   "source": [
    "from selenium.webdriver.support.ui import WebDriverWait\n",
    "from selenium.webdriver.common.by import By\n",
    "from selenium.webdriver.support import expected_conditions as EC"
   ]
  },
  {
   "cell_type": "code",
   "execution_count": 3,
   "id": "1a7f5007",
   "metadata": {},
   "outputs": [],
   "source": [
    "#creating a directory to save images\n",
    "folder_name = 'PET-Flaschen'\n",
    "if not os.path.isdir(folder_name):\n",
    "    os.makedirs(folder_name)"
   ]
  },
  {
   "cell_type": "code",
   "execution_count": 4,
   "id": "71f3f379",
   "metadata": {},
   "outputs": [],
   "source": [
    "def download_image(url, folder_name, num):\n",
    "\n",
    "    # write image to file\n",
    "    reponse = requests.get(url)\n",
    "    if reponse.status_code==200:\n",
    "        with open(os.path.join(folder_name, str(num)+\".jpg\"), 'wb') as file:\n",
    "            file.write(reponse.content)\n"
   ]
  },
  {
   "cell_type": "code",
   "execution_count": 5,
   "id": "69e7351e",
   "metadata": {},
   "outputs": [
    {
     "name": "stderr",
     "output_type": "stream",
     "text": [
      "/var/folders/6s/2x7qqcgx4g95zjs9m5d2_zd40000gp/T/ipykernel_27516/2715198030.py:2: DeprecationWarning: executable_path has been deprecated, please pass in a Service object\n",
      "  driver=webdriver.Chrome(chromePath)\n"
     ]
    }
   ],
   "source": [
    "chromePath=r'/Users/laust/Desktop/2.Semester/Applied Data Science/Gruppenarbeit/Google_bilder/Driver/chromedriver'\n",
    "driver=webdriver.Chrome(chromePath)"
   ]
  },
  {
   "cell_type": "code",
   "execution_count": 6,
   "id": "eb2828d9",
   "metadata": {},
   "outputs": [],
   "source": [
    "search_URL = \"https://www.google.com/search?q=pet+flasche&source=lnms&tbm=isch\"\n",
    "driver.get(search_URL)"
   ]
  },
  {
   "cell_type": "code",
   "execution_count": 7,
   "id": "07d1bbfb",
   "metadata": {},
   "outputs": [
    {
     "name": "stdout",
     "output_type": "stream",
     "text": [
      "Waiting...\n"
     ]
    }
   ],
   "source": [
    "a = input(\"Waiting...\")"
   ]
  },
  {
   "cell_type": "code",
   "execution_count": 8,
   "id": "0f02f0b7",
   "metadata": {},
   "outputs": [
    {
     "name": "stdout",
     "output_type": "stream",
     "text": [
      "100\n"
     ]
    }
   ],
   "source": [
    "#Scrolling all the way up (Alternative)\n",
    "driver.execute_script(\"window.scrollTo(0, 0);\")\n",
    "\n",
    "page_html = driver.page_source\n",
    "pageSoup = bs4.BeautifulSoup(page_html, 'html.parser')\n",
    "containers = pageSoup.findAll('div', {'class':\"isv-r PNCib MSM1fd BUooTd\"} )\n",
    "\n",
    "print(len(containers))\n",
    "\n"
   ]
  },
  {
   "cell_type": "code",
   "execution_count": 9,
   "id": "33a4978f",
   "metadata": {},
   "outputs": [
    {
     "name": "stderr",
     "output_type": "stream",
     "text": [
      "/var/folders/6s/2x7qqcgx4g95zjs9m5d2_zd40000gp/T/ipykernel_27516/4203735827.py:10: DeprecationWarning: find_element_by_xpath is deprecated. Please use find_element(by=By.XPATH, value=xpath) instead\n",
      "  previewImageElement = driver.find_element_by_xpath(previewImageXPath)\n",
      "/var/folders/6s/2x7qqcgx4g95zjs9m5d2_zd40000gp/T/ipykernel_27516/4203735827.py:18: DeprecationWarning: find_element_by_xpath is deprecated. Please use find_element(by=By.XPATH, value=xpath) instead\n",
      "  driver.find_element_by_xpath(xPath).click()\n"
     ]
    }
   ],
   "source": [
    "len_containers = len(containers)\n",
    "\n",
    "for i in range(1, len_containers+1):\n",
    "    if i % 25 == 0:\n",
    "        continue\n",
    "\n",
    "    xPath = \"\"\"//*[@id=\"islrg\"]/div[1]/div[%s]\"\"\"%(i)\n",
    "\n",
    "    previewImageXPath = \"\"\"//*[@id=\"islrg\"]/div[1]/div[%s]/a[1]/div[1]/img\"\"\"%(i)\n",
    "    previewImageElement = driver.find_element_by_xpath(previewImageXPath)\n",
    "    previewImageURL = previewImageElement.get_attribute(\"src\")\n",
    "    #print(\"preview URL\", previewImageURL)\n",
    "\n",
    "\n",
    "    #print(xPath)\n",
    "\n",
    "\n",
    "    driver.find_element_by_xpath(xPath).click()"
   ]
  },
  {
   "cell_type": "code",
   "execution_count": 10,
   "id": "e68fc04c",
   "metadata": {},
   "outputs": [
    {
     "name": "stderr",
     "output_type": "stream",
     "text": [
      "/var/folders/6s/2x7qqcgx4g95zjs9m5d2_zd40000gp/T/ipykernel_27516/2326021983.py:5: DeprecationWarning: find_element_by_xpath is deprecated. Please use find_element(by=By.XPATH, value=xpath) instead\n",
      "  imageElement = driver.find_element_by_xpath(\"\"\"//*[@id=\"slrg\"]/div/div/div[3]/div[2]/c-wiz/div/div[1]/div[1]/div[2]/div[1]/a/img\"\"\")\n"
     ]
    },
    {
     "ename": "NoSuchElementException",
     "evalue": "Message: no such element: Unable to locate element: {\"method\":\"xpath\",\"selector\":\"//*[@id=\"slrg\"]/div/div/div[3]/div[2]/c-wiz/div/div[1]/div[1]/div[2]/div[1]/a/img\"}\n  (Session info: chrome=101.0.4951.64)\nStacktrace:\n0   chromedriver                        0x00000001025509a0 chromedriver + 4426144\n1   chromedriver                        0x00000001024ea798 chromedriver + 4007832\n2   chromedriver                        0x0000000102146cc4 chromedriver + 191684\n3   chromedriver                        0x00000001021758d4 chromedriver + 383188\n4   chromedriver                        0x000000010219e648 chromedriver + 550472\n5   chromedriver                        0x000000010216acf4 chromedriver + 339188\n6   chromedriver                        0x00000001025277d0 chromedriver + 4257744\n7   chromedriver                        0x000000010252b580 chromedriver + 4273536\n8   chromedriver                        0x000000010252f6c4 chromedriver + 4290244\n9   chromedriver                        0x000000010252bcf8 chromedriver + 4275448\n10  chromedriver                        0x000000010250bb38 chromedriver + 4143928\n11  chromedriver                        0x000000010254321c chromedriver + 4370972\n12  chromedriver                        0x0000000102543380 chromedriver + 4371328\n13  chromedriver                        0x0000000102557154 chromedriver + 4452692\n14  libsystem_pthread.dylib             0x00000001ad44626c _pthread_start + 148\n15  libsystem_pthread.dylib             0x00000001ad44108c thread_start + 8\n",
     "output_type": "error",
     "traceback": [
      "\u001b[0;31m---------------------------------------------------------------------------\u001b[0m",
      "\u001b[0;31mNoSuchElementException\u001b[0m                    Traceback (most recent call last)",
      "Input \u001b[0;32mIn [10]\u001b[0m, in \u001b[0;36m<cell line: 5>\u001b[0;34m()\u001b[0m\n\u001b[1;32m      2\u001b[0m timeStarted \u001b[38;5;241m=\u001b[39m time\u001b[38;5;241m.\u001b[39mtime()\n\u001b[1;32m      3\u001b[0m \u001b[38;5;28;01mwhile\u001b[39;00m \u001b[38;5;28;01mTrue\u001b[39;00m:\n\u001b[0;32m----> 5\u001b[0m        imageElement \u001b[38;5;241m=\u001b[39m \u001b[43mdriver\u001b[49m\u001b[38;5;241;43m.\u001b[39;49m\u001b[43mfind_element_by_xpath\u001b[49m\u001b[43m(\u001b[49m\u001b[38;5;124;43m\"\"\"\u001b[39;49m\u001b[38;5;124;43m//*[@id=\u001b[39;49m\u001b[38;5;124;43m\"\u001b[39;49m\u001b[38;5;124;43mslrg\u001b[39;49m\u001b[38;5;124;43m\"\u001b[39;49m\u001b[38;5;124;43m]/div/div/div[3]/div[2]/c-wiz/div/div[1]/div[1]/div[2]/div[1]/a/img\u001b[39;49m\u001b[38;5;124;43m\"\"\"\u001b[39;49m\u001b[43m)\u001b[49m\n\u001b[1;32m      6\u001b[0m        imageURL\u001b[38;5;241m=\u001b[39m imageElement\u001b[38;5;241m.\u001b[39mget_attribute(\u001b[38;5;124m'\u001b[39m\u001b[38;5;124msrc\u001b[39m\u001b[38;5;124m'\u001b[39m)\n\u001b[1;32m      8\u001b[0m        \u001b[38;5;28;01mif\u001b[39;00m imageURL \u001b[38;5;241m!=\u001b[39m previewImageURL:\n\u001b[1;32m      9\u001b[0m            \u001b[38;5;66;03m#print(\"actual URL\", imageURL)\u001b[39;00m\n",
      "File \u001b[0;32m~/opt/anaconda3/envs/Test/lib/python3.8/site-packages/selenium/webdriver/remote/webdriver.py:521\u001b[0m, in \u001b[0;36mWebDriver.find_element_by_xpath\u001b[0;34m(self, xpath)\u001b[0m\n\u001b[1;32m    499\u001b[0m \u001b[38;5;124;03m\"\"\"\u001b[39;00m\n\u001b[1;32m    500\u001b[0m \u001b[38;5;124;03mFinds an element by xpath.\u001b[39;00m\n\u001b[1;32m    501\u001b[0m \n\u001b[0;32m   (...)\u001b[0m\n\u001b[1;32m    514\u001b[0m \u001b[38;5;124;03m        element = driver.find_element_by_xpath('//div/td[1]')\u001b[39;00m\n\u001b[1;32m    515\u001b[0m \u001b[38;5;124;03m\"\"\"\u001b[39;00m\n\u001b[1;32m    516\u001b[0m warnings\u001b[38;5;241m.\u001b[39mwarn(\n\u001b[1;32m    517\u001b[0m     \u001b[38;5;124m\"\u001b[39m\u001b[38;5;124mfind_element_by_xpath is deprecated. Please use find_element(by=By.XPATH, value=xpath) instead\u001b[39m\u001b[38;5;124m\"\u001b[39m,\n\u001b[1;32m    518\u001b[0m     \u001b[38;5;167;01mDeprecationWarning\u001b[39;00m,\n\u001b[1;32m    519\u001b[0m     stacklevel\u001b[38;5;241m=\u001b[39m\u001b[38;5;241m2\u001b[39m,\n\u001b[1;32m    520\u001b[0m )\n\u001b[0;32m--> 521\u001b[0m \u001b[38;5;28;01mreturn\u001b[39;00m \u001b[38;5;28;43mself\u001b[39;49m\u001b[38;5;241;43m.\u001b[39;49m\u001b[43mfind_element\u001b[49m\u001b[43m(\u001b[49m\u001b[43mby\u001b[49m\u001b[38;5;241;43m=\u001b[39;49m\u001b[43mBy\u001b[49m\u001b[38;5;241;43m.\u001b[39;49m\u001b[43mXPATH\u001b[49m\u001b[43m,\u001b[49m\u001b[43m \u001b[49m\u001b[43mvalue\u001b[49m\u001b[38;5;241;43m=\u001b[39;49m\u001b[43mxpath\u001b[49m\u001b[43m)\u001b[49m\n",
      "File \u001b[0;32m~/opt/anaconda3/envs/Test/lib/python3.8/site-packages/selenium/webdriver/remote/webdriver.py:1248\u001b[0m, in \u001b[0;36mWebDriver.find_element\u001b[0;34m(self, by, value)\u001b[0m\n\u001b[1;32m   1245\u001b[0m     by \u001b[38;5;241m=\u001b[39m By\u001b[38;5;241m.\u001b[39mCSS_SELECTOR\n\u001b[1;32m   1246\u001b[0m     value \u001b[38;5;241m=\u001b[39m \u001b[38;5;124m'\u001b[39m\u001b[38;5;124m[name=\u001b[39m\u001b[38;5;124m\"\u001b[39m\u001b[38;5;132;01m%s\u001b[39;00m\u001b[38;5;124m\"\u001b[39m\u001b[38;5;124m]\u001b[39m\u001b[38;5;124m'\u001b[39m \u001b[38;5;241m%\u001b[39m value\n\u001b[0;32m-> 1248\u001b[0m \u001b[38;5;28;01mreturn\u001b[39;00m \u001b[38;5;28;43mself\u001b[39;49m\u001b[38;5;241;43m.\u001b[39;49m\u001b[43mexecute\u001b[49m\u001b[43m(\u001b[49m\u001b[43mCommand\u001b[49m\u001b[38;5;241;43m.\u001b[39;49m\u001b[43mFIND_ELEMENT\u001b[49m\u001b[43m,\u001b[49m\u001b[43m \u001b[49m\u001b[43m{\u001b[49m\n\u001b[1;32m   1249\u001b[0m \u001b[43m    \u001b[49m\u001b[38;5;124;43m'\u001b[39;49m\u001b[38;5;124;43musing\u001b[39;49m\u001b[38;5;124;43m'\u001b[39;49m\u001b[43m:\u001b[49m\u001b[43m \u001b[49m\u001b[43mby\u001b[49m\u001b[43m,\u001b[49m\n\u001b[1;32m   1250\u001b[0m \u001b[43m    \u001b[49m\u001b[38;5;124;43m'\u001b[39;49m\u001b[38;5;124;43mvalue\u001b[39;49m\u001b[38;5;124;43m'\u001b[39;49m\u001b[43m:\u001b[49m\u001b[43m \u001b[49m\u001b[43mvalue\u001b[49m\u001b[43m}\u001b[49m\u001b[43m)\u001b[49m[\u001b[38;5;124m'\u001b[39m\u001b[38;5;124mvalue\u001b[39m\u001b[38;5;124m'\u001b[39m]\n",
      "File \u001b[0;32m~/opt/anaconda3/envs/Test/lib/python3.8/site-packages/selenium/webdriver/remote/webdriver.py:425\u001b[0m, in \u001b[0;36mWebDriver.execute\u001b[0;34m(self, driver_command, params)\u001b[0m\n\u001b[1;32m    423\u001b[0m response \u001b[38;5;241m=\u001b[39m \u001b[38;5;28mself\u001b[39m\u001b[38;5;241m.\u001b[39mcommand_executor\u001b[38;5;241m.\u001b[39mexecute(driver_command, params)\n\u001b[1;32m    424\u001b[0m \u001b[38;5;28;01mif\u001b[39;00m response:\n\u001b[0;32m--> 425\u001b[0m     \u001b[38;5;28;43mself\u001b[39;49m\u001b[38;5;241;43m.\u001b[39;49m\u001b[43merror_handler\u001b[49m\u001b[38;5;241;43m.\u001b[39;49m\u001b[43mcheck_response\u001b[49m\u001b[43m(\u001b[49m\u001b[43mresponse\u001b[49m\u001b[43m)\u001b[49m\n\u001b[1;32m    426\u001b[0m     response[\u001b[38;5;124m'\u001b[39m\u001b[38;5;124mvalue\u001b[39m\u001b[38;5;124m'\u001b[39m] \u001b[38;5;241m=\u001b[39m \u001b[38;5;28mself\u001b[39m\u001b[38;5;241m.\u001b[39m_unwrap_value(\n\u001b[1;32m    427\u001b[0m         response\u001b[38;5;241m.\u001b[39mget(\u001b[38;5;124m'\u001b[39m\u001b[38;5;124mvalue\u001b[39m\u001b[38;5;124m'\u001b[39m, \u001b[38;5;28;01mNone\u001b[39;00m))\n\u001b[1;32m    428\u001b[0m     \u001b[38;5;28;01mreturn\u001b[39;00m response\n",
      "File \u001b[0;32m~/opt/anaconda3/envs/Test/lib/python3.8/site-packages/selenium/webdriver/remote/errorhandler.py:247\u001b[0m, in \u001b[0;36mErrorHandler.check_response\u001b[0;34m(self, response)\u001b[0m\n\u001b[1;32m    245\u001b[0m         alert_text \u001b[38;5;241m=\u001b[39m value[\u001b[38;5;124m'\u001b[39m\u001b[38;5;124malert\u001b[39m\u001b[38;5;124m'\u001b[39m]\u001b[38;5;241m.\u001b[39mget(\u001b[38;5;124m'\u001b[39m\u001b[38;5;124mtext\u001b[39m\u001b[38;5;124m'\u001b[39m)\n\u001b[1;32m    246\u001b[0m     \u001b[38;5;28;01mraise\u001b[39;00m exception_class(message, screen, stacktrace, alert_text)  \u001b[38;5;66;03m# type: ignore[call-arg]  # mypy is not smart enough here\u001b[39;00m\n\u001b[0;32m--> 247\u001b[0m \u001b[38;5;28;01mraise\u001b[39;00m exception_class(message, screen, stacktrace)\n",
      "\u001b[0;31mNoSuchElementException\u001b[0m: Message: no such element: Unable to locate element: {\"method\":\"xpath\",\"selector\":\"//*[@id=\"slrg\"]/div/div/div[3]/div[2]/c-wiz/div/div[1]/div[1]/div[2]/div[1]/a/img\"}\n  (Session info: chrome=101.0.4951.64)\nStacktrace:\n0   chromedriver                        0x00000001025509a0 chromedriver + 4426144\n1   chromedriver                        0x00000001024ea798 chromedriver + 4007832\n2   chromedriver                        0x0000000102146cc4 chromedriver + 191684\n3   chromedriver                        0x00000001021758d4 chromedriver + 383188\n4   chromedriver                        0x000000010219e648 chromedriver + 550472\n5   chromedriver                        0x000000010216acf4 chromedriver + 339188\n6   chromedriver                        0x00000001025277d0 chromedriver + 4257744\n7   chromedriver                        0x000000010252b580 chromedriver + 4273536\n8   chromedriver                        0x000000010252f6c4 chromedriver + 4290244\n9   chromedriver                        0x000000010252bcf8 chromedriver + 4275448\n10  chromedriver                        0x000000010250bb38 chromedriver + 4143928\n11  chromedriver                        0x000000010254321c chromedriver + 4370972\n12  chromedriver                        0x0000000102543380 chromedriver + 4371328\n13  chromedriver                        0x0000000102557154 chromedriver + 4452692\n14  libsystem_pthread.dylib             0x00000001ad44626c _pthread_start + 148\n15  libsystem_pthread.dylib             0x00000001ad44108c thread_start + 8\n"
     ]
    }
   ],
   "source": [
    " #bei verzögung wird das bild nicht heruntergeladen\n",
    "timeStarted = time.time()\n",
    "while True:\n",
    "\n",
    "        imageElement = driver.find_element_by_xpath(\"\"\"//*[@id=\"slrg\"]/div/div/div[3]/div[2]/c-wiz/div/div[1]/div[1]/div[2]/div[1]/a/img\"\"\")\n",
    "        imageURL= imageElement.get_attribute('src')\n",
    "\n",
    "        if imageURL != previewImageURL:\n",
    "            #print(\"actual URL\", imageURL)\n",
    "            break\n",
    "\n",
    "        else:\n",
    "            #making a timeout if the full res image can't be loaded\n",
    "            currentTime = time.time()\n",
    "\n",
    "            if currentTime - timeStarted > 10:\n",
    "                print(\"Timeout! Will download a lower resolution image and move onto the next one\")\n",
    "                break\n"
   ]
  },
  {
   "cell_type": "code",
   "execution_count": null,
   "id": "22e06916",
   "metadata": {},
   "outputs": [],
   "source": [
    "#Downloading image\n",
    "    try:\n",
    "        download_image(imageURL, folder_name, i)\n",
    "        print(\"Downloaded element %s out of %s total. URL: %s\" % (i, len_containers + 1, imageURL))\n",
    "    except:\n",
    "        print(\"Couldn't download an image %s, continuing downloading the next one\"%(i))\n"
   ]
  },
  {
   "cell_type": "code",
   "execution_count": null,
   "id": "e96a5360",
   "metadata": {},
   "outputs": [],
   "source": []
  }
 ],
 "metadata": {
  "kernelspec": {
   "display_name": "Python 3 (ipykernel)",
   "language": "python",
   "name": "python3"
  },
  "language_info": {
   "codemirror_mode": {
    "name": "ipython",
    "version": 3
   },
   "file_extension": ".py",
   "mimetype": "text/x-python",
   "name": "python",
   "nbconvert_exporter": "python",
   "pygments_lexer": "ipython3",
   "version": "3.8.12"
  }
 },
 "nbformat": 4,
 "nbformat_minor": 5
}
